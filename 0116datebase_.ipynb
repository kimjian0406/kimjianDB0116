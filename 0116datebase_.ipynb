{
  "nbformat": 4,
  "nbformat_minor": 0,
  "metadata": {
    "colab": {
      "provenance": [],
      "authorship_tag": "ABX9TyMKbAGN8PzZ1iYZTVTbFBmC"
    },
    "kernelspec": {
      "name": "python3",
      "display_name": "Python 3"
    },
    "language_info": {
      "name": "python"
    }
  },
  "cells": [
    {
      "cell_type": "markdown",
      "source": [
        "# SELECT * FROM patients\n",
        "# SELECT first_name\n",
        "# FROM patients\n",
        "# WHERE first_name LIKE 'C%';\n",
        "# SELECT first_name, last_name\n",
        "# FROM patients\n",
        "WHERE weight BETWEEN 100 AND 120;\n",
        "UPDATE patients\n",
        "SET allergies = 'NKA'\n",
        "WHERE allergies IS NULL;\n",
        "SELECT CONCAT(first_name, ' ', last_name) AS full_name\n",
        "FROM patients;\n",
        "SELECT COUNT(*) AS total_patients_2010\n",
        "FROM patients\n",
        "WHERE YEAR(birth_date) = 2010;\n",
        "SELECT first_name, last_name, height\n",
        "FROM patients\n",
        "ORDER BY height DESC\n",
        "LIMIT 1;\n",
        "SELECT *\n",
        "FROM patients\n",
        "WHERE patient_id IN (1, 45, 534, 879, 1000);\n",
        "SELECT COUNT(*) AS total_admissions\n",
        "FROM admissions;\n",
        "SELECT *\n",
        "FROM admissions\n",
        "WHERE admission_date = discharge_date;\n",
        "SELECT patient_id, COUNT(*) AS total_admissions\n",
        "FROM admissions\n",
        "WHERE patient_id = 579\n",
        "GROUP BY patient_id;\n",
        "SELECT DISTINCT city\n",
        "FROM patients\n",
        "WHERE province_id = 'NS';\n",
        "SELECT first_name, last_name, birth_date\n",
        "FROM patients\n",
        "WHERE height > 160 AND weight > 70;\n",
        "SELECT first_name, last_name, allergies\n",
        "FROM patients\n",
        "WHERE allergies IS NOT NULL\n",
        "  AND city = 'Hamilton';"
      ],
      "metadata": {
        "id": "RXowa0mhhqel"
      }
    }
  ]
}